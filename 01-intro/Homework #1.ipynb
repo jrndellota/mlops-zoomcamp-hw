{
 "cells": [
  {
   "cell_type": "code",
   "execution_count": 46,
   "id": "c7308624",
   "metadata": {},
   "outputs": [],
   "source": [
    "import pandas as pd\n",
    "import seaborn as sns\n",
    "from sklearn.feature_extraction import DictVectorizer\n",
    "from sklearn.linear_model import LinearRegression\n",
    "from sklearn.metrics import mean_squared_error"
   ]
  },
  {
   "cell_type": "markdown",
   "id": "63a40ca8",
   "metadata": {},
   "source": [
    "# Q1"
   ]
  },
  {
   "cell_type": "code",
   "execution_count": 47,
   "id": "2b807d14",
   "metadata": {},
   "outputs": [],
   "source": [
    "df_jan = pd.read_parquet(\"fhv_tripdata_2021-01.parquet\")"
   ]
  },
  {
   "cell_type": "code",
   "execution_count": 48,
   "id": "cffff791",
   "metadata": {},
   "outputs": [
    {
     "name": "stdout",
     "output_type": "stream",
     "text": [
      "<class 'pandas.core.frame.DataFrame'>\n",
      "RangeIndex: 1154112 entries, 0 to 1154111\n",
      "Data columns (total 7 columns):\n",
      " #   Column                  Non-Null Count    Dtype         \n",
      "---  ------                  --------------    -----         \n",
      " 0   dispatching_base_num    1154112 non-null  object        \n",
      " 1   pickup_datetime         1154112 non-null  datetime64[ns]\n",
      " 2   dropOff_datetime        1154112 non-null  datetime64[ns]\n",
      " 3   PUlocationID            195845 non-null   float64       \n",
      " 4   DOlocationID            991892 non-null   float64       \n",
      " 5   SR_Flag                 0 non-null        object        \n",
      " 6   Affiliated_base_number  1153227 non-null  object        \n",
      "dtypes: datetime64[ns](2), float64(2), object(3)\n",
      "memory usage: 61.6+ MB\n"
     ]
    }
   ],
   "source": [
    "df_jan.info()"
   ]
  },
  {
   "cell_type": "markdown",
   "id": "7e4a8b8b",
   "metadata": {},
   "source": [
    "# Q2"
   ]
  },
  {
   "cell_type": "code",
   "execution_count": 49,
   "id": "4430c905",
   "metadata": {},
   "outputs": [],
   "source": [
    "df_jan.pickup_datetime = pd.to_datetime(df_jan.pickup_datetime)\n",
    "df_jan.dropOff_datetime = pd.to_datetime(df_jan.dropOff_datetime)"
   ]
  },
  {
   "cell_type": "code",
   "execution_count": 50,
   "id": "942e8c34",
   "metadata": {},
   "outputs": [],
   "source": [
    "df_jan[\"duration\"] = (df_jan.dropOff_datetime - df_jan.pickup_datetime).dt.total_seconds()/60"
   ]
  },
  {
   "cell_type": "code",
   "execution_count": 51,
   "id": "59e7b77a",
   "metadata": {},
   "outputs": [
    {
     "data": {
      "text/plain": [
       "19.1672240937939"
      ]
     },
     "execution_count": 51,
     "metadata": {},
     "output_type": "execute_result"
    }
   ],
   "source": [
    "df_jan.duration.mean()"
   ]
  },
  {
   "cell_type": "markdown",
   "id": "df8d8179",
   "metadata": {},
   "source": [
    "# Q3"
   ]
  },
  {
   "cell_type": "code",
   "execution_count": 52,
   "id": "31b5f899",
   "metadata": {},
   "outputs": [
    {
     "name": "stderr",
     "output_type": "stream",
     "text": [
      "C:\\Users\\Jaron\\anaconda3\\lib\\site-packages\\seaborn\\distributions.py:2557: FutureWarning: `distplot` is a deprecated function and will be removed in a future version. Please adapt your code to use either `displot` (a figure-level function with similar flexibility) or `histplot` (an axes-level function for histograms).\n",
      "  warnings.warn(msg, FutureWarning)\n"
     ]
    },
    {
     "data": {
      "text/plain": [
       "<AxesSubplot:xlabel='duration', ylabel='Density'>"
      ]
     },
     "execution_count": 52,
     "metadata": {},
     "output_type": "execute_result"
    },
    {
     "data": {
      "image/png": "[encoded data removed]",
      "text/plain": [
       "<Figure size 432x288 with 1 Axes>"
      ]
     },
     "metadata": {
      "needs_background": "light"
     },
     "output_type": "display_data"
    }
   ],
   "source": [
    "sns.distplot(df_jan.duration)"
   ]
  },
  {
   "cell_type": "code",
   "execution_count": 53,
   "id": "2d5d7820",
   "metadata": {},
   "outputs": [],
   "source": [
    "df_jan_2 = df_jan[df_jan.duration.between(1,60)]"
   ]
  },
  {
   "cell_type": "code",
   "execution_count": 54,
   "id": "0c36acbe",
   "metadata": {},
   "outputs": [
    {
     "data": {
      "text/plain": [
       "dispatching_base_num      1109826\n",
       "pickup_datetime           1109826\n",
       "dropOff_datetime          1109826\n",
       "PUlocationID               182818\n",
       "DOlocationID               961919\n",
       "SR_Flag                         0\n",
       "Affiliated_base_number    1109053\n",
       "duration                  1109826\n",
       "dtype: int64"
      ]
     },
     "execution_count": 54,
     "metadata": {},
     "output_type": "execute_result"
    }
   ],
   "source": [
    "df_jan_2.count()"
   ]
  },
  {
   "cell_type": "code",
   "execution_count": 55,
   "id": "94b050a9",
   "metadata": {},
   "outputs": [
    {
     "data": {
      "text/plain": [
       "44286"
      ]
     },
     "execution_count": 55,
     "metadata": {},
     "output_type": "execute_result"
    }
   ],
   "source": [
    "1154112 - 1109826"
   ]
  },
  {
   "cell_type": "code",
   "execution_count": 56,
   "id": "d487787b",
   "metadata": {},
   "outputs": [
    {
     "name": "stderr",
     "output_type": "stream",
     "text": [
      "C:\\Users\\Jaron\\anaconda3\\lib\\site-packages\\pandas\\core\\series.py:4463: SettingWithCopyWarning: \n",
      "A value is trying to be set on a copy of a slice from a DataFrame\n",
      "\n",
      "See the caveats in the documentation: https://pandas.pydata.org/pandas-docs/stable/user_guide/indexing.html#returning-a-view-versus-a-copy\n",
      "  return super().fillna(\n"
     ]
    }
   ],
   "source": [
    "df_jan_2.PUlocationID.fillna(-1, inplace=True)\n",
    "df_jan_2.DOlocationID.fillna(-1, inplace=True)"
   ]
  },
  {
   "cell_type": "code",
   "execution_count": 57,
   "id": "59b8a548",
   "metadata": {},
   "outputs": [
    {
     "data": {
      "text/plain": [
       "83.52732770722618"
      ]
     },
     "execution_count": 57,
     "metadata": {},
     "output_type": "execute_result"
    }
   ],
   "source": [
    "df_jan_2[df_jan_2.PUlocationID == -1].PUlocationID.count() / df_jan_2.PUlocationID.count() * 100"
   ]
  },
  {
   "cell_type": "code",
   "execution_count": 58,
   "id": "a2fd89de",
   "metadata": {},
   "outputs": [
    {
     "data": {
      "text/plain": [
       "-1.0      927008\n",
       " 221.0      8330\n",
       " 206.0      6797\n",
       " 129.0      5379\n",
       " 115.0      4082\n",
       "           ...  \n",
       " 111.0         5\n",
       " 27.0          4\n",
       " 34.0          3\n",
       " 2.0           2\n",
       " 110.0         1\n",
       "Name: PUlocationID, Length: 262, dtype: int64"
      ]
     },
     "execution_count": 58,
     "metadata": {},
     "output_type": "execute_result"
    }
   ],
   "source": [
    "df_jan_2.PUlocationID.value_counts()"
   ]
  },
  {
   "cell_type": "markdown",
   "id": "d7da5b7b",
   "metadata": {},
   "source": [
    "# Q4"
   ]
  },
  {
   "cell_type": "code",
   "execution_count": 64,
   "id": "af08a4e8",
   "metadata": {},
   "outputs": [
    {
     "name": "stderr",
     "output_type": "stream",
     "text": [
      "C:\\Users\\Jaron\\anaconda3\\lib\\site-packages\\pandas\\core\\frame.py:3191: SettingWithCopyWarning: \n",
      "A value is trying to be set on a copy of a slice from a DataFrame.\n",
      "Try using .loc[row_indexer,col_indexer] = value instead\n",
      "\n",
      "See the caveats in the documentation: https://pandas.pydata.org/pandas-docs/stable/user_guide/indexing.html#returning-a-view-versus-a-copy\n",
      "  self[k1] = value[k2]\n"
     ]
    }
   ],
   "source": [
    "df_jan_2[[\"PUlocationID\",\"DOlocationID\"]] = df_jan_2[[\"PUlocationID\",\"DOlocationID\"]].astype(str)\n",
    "train_dicts = df_jan_2[[\"PUlocationID\",\"DOlocationID\"]].to_dict(orient='records')"
   ]
  },
  {
   "cell_type": "code",
   "execution_count": 68,
   "id": "24fed400",
   "metadata": {},
   "outputs": [],
   "source": [
    "dv = DictVectorizer()\n",
    "X_train = dv.fit_transform(train_dicts)\n",
    "\n",
    "y_train = df_jan_2['duration'].values"
   ]
  },
  {
   "cell_type": "code",
   "execution_count": 69,
   "id": "8d72e45e",
   "metadata": {},
   "outputs": [
    {
     "data": {
      "text/plain": [
       "(1109826, 525)"
      ]
     },
     "execution_count": 69,
     "metadata": {},
     "output_type": "execute_result"
    }
   ],
   "source": [
    "X_train.shape"
   ]
  },
  {
   "cell_type": "markdown",
   "id": "0d04e78e",
   "metadata": {},
   "source": [
    "# Q5"
   ]
  },
  {
   "cell_type": "code",
   "execution_count": 31,
   "id": "3f95c0af",
   "metadata": {},
   "outputs": [
    {
     "data": {
      "text/plain": [
       "LinearRegression()"
      ]
     },
     "execution_count": 31,
     "metadata": {},
     "output_type": "execute_result"
    }
   ],
   "source": [
    "lr = LinearRegression()\n",
    "lr.fit(X_train, y_train)"
   ]
  },
  {
   "cell_type": "code",
   "execution_count": 34,
   "id": "eb1303e6",
   "metadata": {},
   "outputs": [
    {
     "data": {
      "text/plain": [
       "10.528519107206064"
      ]
     },
     "execution_count": 34,
     "metadata": {},
     "output_type": "execute_result"
    }
   ],
   "source": [
    "y_pred = lr.predict(X_train)\n",
    "\n",
    "mean_squared_error(y_train, y_pred, squared=False)"
   ]
  },
  {
   "cell_type": "markdown",
   "id": "38596d18",
   "metadata": {},
   "source": [
    "# Q6"
   ]
  },
  {
   "cell_type": "code",
   "execution_count": 42,
   "id": "b5767b7a",
   "metadata": {},
   "outputs": [],
   "source": [
    "df_feb = pd.read_parquet(\"fhv_tripdata_2021-02.parquet\")"
   ]
  },
  {
   "cell_type": "code",
   "execution_count": 43,
   "id": "95cc48ba",
   "metadata": {},
   "outputs": [],
   "source": [
    "df_feb.pickup_datetime = pd.to_datetime(df_feb.pickup_datetime)\n",
    "df_feb.dropOff_datetime = pd.to_datetime(df_feb.dropOff_datetime)\n",
    "df_feb[\"duration\"] = (df_feb.dropOff_datetime - df_feb.pickup_datetime).dt.total_seconds()/60\n",
    "\n",
    "df_feb = df_feb[df_feb.duration.between(1,60)]\n",
    "\n",
    "df_feb.PUlocationID.fillna(-1, inplace=True)\n",
    "df_feb.DOlocationID.fillna(-1, inplace=True)\n",
    "\n",
    "df_feb[[\"PUlocationID\",\"DOlocationID\"]] = df_feb[[\"PUlocationID\",\"DOlocationID\"]].astype(str)\n",
    "test_dicts = df_feb[[\"PUlocationID\",\"DOlocationID\"]].to_dict(orient='records')"
   ]
  },
  {
   "cell_type": "code",
   "execution_count": 61,
   "id": "41f2c92c",
   "metadata": {},
   "outputs": [
    {
     "data": {
      "text/html": [
       "<div>\n",
       "<style scoped>\n",
       "    .dataframe tbody tr th:only-of-type {\n",
       "        vertical-align: middle;\n",
       "    }\n",
       "\n",
       "    .dataframe tbody tr th {\n",
       "        vertical-align: top;\n",
       "    }\n",
       "\n",
       "    .dataframe thead th {\n",
       "        text-align: right;\n",
       "    }\n",
       "</style>\n",
       "<table border=\"1\" class=\"dataframe\">\n",
       "  <thead>\n",
       "    <tr style=\"text-align: right;\">\n",
       "      <th></th>\n",
       "      <th>dispatching_base_num</th>\n",
       "      <th>pickup_datetime</th>\n",
       "      <th>dropOff_datetime</th>\n",
       "      <th>PUlocationID</th>\n",
       "      <th>DOlocationID</th>\n",
       "      <th>SR_Flag</th>\n",
       "      <th>Affiliated_base_number</th>\n",
       "      <th>duration</th>\n",
       "    </tr>\n",
       "  </thead>\n",
       "  <tbody>\n",
       "    <tr>\n",
       "      <th>1</th>\n",
       "      <td>B00021</td>\n",
       "      <td>2021-02-01 00:55:40</td>\n",
       "      <td>2021-02-01 01:06:20</td>\n",
       "      <td>173.0</td>\n",
       "      <td>82.0</td>\n",
       "      <td>None</td>\n",
       "      <td>B00021</td>\n",
       "      <td>10.666667</td>\n",
       "    </tr>\n",
       "    <tr>\n",
       "      <th>2</th>\n",
       "      <td>B00021</td>\n",
       "      <td>2021-02-01 00:14:03</td>\n",
       "      <td>2021-02-01 00:28:37</td>\n",
       "      <td>173.0</td>\n",
       "      <td>56.0</td>\n",
       "      <td>None</td>\n",
       "      <td>B00021</td>\n",
       "      <td>14.566667</td>\n",
       "    </tr>\n",
       "    <tr>\n",
       "      <th>3</th>\n",
       "      <td>B00021</td>\n",
       "      <td>2021-02-01 00:27:48</td>\n",
       "      <td>2021-02-01 00:35:45</td>\n",
       "      <td>82.0</td>\n",
       "      <td>129.0</td>\n",
       "      <td>None</td>\n",
       "      <td>B00021</td>\n",
       "      <td>7.950000</td>\n",
       "    </tr>\n",
       "    <tr>\n",
       "      <th>4</th>\n",
       "      <td>B00037</td>\n",
       "      <td>2021-02-01 00:12:50</td>\n",
       "      <td>2021-02-01 00:26:38</td>\n",
       "      <td>-1.0</td>\n",
       "      <td>225.0</td>\n",
       "      <td>None</td>\n",
       "      <td>B00037</td>\n",
       "      <td>13.800000</td>\n",
       "    </tr>\n",
       "    <tr>\n",
       "      <th>5</th>\n",
       "      <td>B00037</td>\n",
       "      <td>2021-02-01 00:00:37</td>\n",
       "      <td>2021-02-01 00:09:35</td>\n",
       "      <td>-1.0</td>\n",
       "      <td>61.0</td>\n",
       "      <td>None</td>\n",
       "      <td>B00037</td>\n",
       "      <td>8.966667</td>\n",
       "    </tr>\n",
       "    <tr>\n",
       "      <th>...</th>\n",
       "      <td>...</td>\n",
       "      <td>...</td>\n",
       "      <td>...</td>\n",
       "      <td>...</td>\n",
       "      <td>...</td>\n",
       "      <td>...</td>\n",
       "      <td>...</td>\n",
       "      <td>...</td>\n",
       "    </tr>\n",
       "    <tr>\n",
       "      <th>1037687</th>\n",
       "      <td>B03282</td>\n",
       "      <td>2021-02-28 23:01:16</td>\n",
       "      <td>2021-02-28 23:14:48</td>\n",
       "      <td>-1.0</td>\n",
       "      <td>31.0</td>\n",
       "      <td>None</td>\n",
       "      <td>B01717</td>\n",
       "      <td>13.533333</td>\n",
       "    </tr>\n",
       "    <tr>\n",
       "      <th>1037688</th>\n",
       "      <td>B03282</td>\n",
       "      <td>2021-02-28 23:36:10</td>\n",
       "      <td>2021-02-28 23:47:38</td>\n",
       "      <td>-1.0</td>\n",
       "      <td>169.0</td>\n",
       "      <td>None</td>\n",
       "      <td>B01717</td>\n",
       "      <td>11.466667</td>\n",
       "    </tr>\n",
       "    <tr>\n",
       "      <th>1037689</th>\n",
       "      <td>B03285</td>\n",
       "      <td>2021-02-28 23:18:36</td>\n",
       "      <td>2021-02-28 23:43:59</td>\n",
       "      <td>28.0</td>\n",
       "      <td>171.0</td>\n",
       "      <td>None</td>\n",
       "      <td>B03285</td>\n",
       "      <td>25.383333</td>\n",
       "    </tr>\n",
       "    <tr>\n",
       "      <th>1037690</th>\n",
       "      <td>B03285</td>\n",
       "      <td>2021-02-28 23:26:34</td>\n",
       "      <td>2021-02-28 23:44:37</td>\n",
       "      <td>16.0</td>\n",
       "      <td>252.0</td>\n",
       "      <td>None</td>\n",
       "      <td>B03285</td>\n",
       "      <td>18.050000</td>\n",
       "    </tr>\n",
       "    <tr>\n",
       "      <th>1037691</th>\n",
       "      <td>B03285</td>\n",
       "      <td>2021-02-28 23:24:00</td>\n",
       "      <td>2021-02-28 23:40:00</td>\n",
       "      <td>171.0</td>\n",
       "      <td>135.0</td>\n",
       "      <td>None</td>\n",
       "      <td>B03285</td>\n",
       "      <td>16.000000</td>\n",
       "    </tr>\n",
       "  </tbody>\n",
       "</table>\n",
       "<p>990113 rows × 8 columns</p>\n",
       "</div>"
      ],
      "text/plain": [
       "        dispatching_base_num     pickup_datetime    dropOff_datetime  \\\n",
       "1            B00021          2021-02-01 00:55:40 2021-02-01 01:06:20   \n",
       "2            B00021          2021-02-01 00:14:03 2021-02-01 00:28:37   \n",
       "3            B00021          2021-02-01 00:27:48 2021-02-01 00:35:45   \n",
       "4                     B00037 2021-02-01 00:12:50 2021-02-01 00:26:38   \n",
       "5                     B00037 2021-02-01 00:00:37 2021-02-01 00:09:35   \n",
       "...                      ...                 ...                 ...   \n",
       "1037687               B03282 2021-02-28 23:01:16 2021-02-28 23:14:48   \n",
       "1037688               B03282 2021-02-28 23:36:10 2021-02-28 23:47:38   \n",
       "1037689      B03285          2021-02-28 23:18:36 2021-02-28 23:43:59   \n",
       "1037690      B03285          2021-02-28 23:26:34 2021-02-28 23:44:37   \n",
       "1037691      B03285          2021-02-28 23:24:00 2021-02-28 23:40:00   \n",
       "\n",
       "        PUlocationID DOlocationID SR_Flag Affiliated_base_number   duration  \n",
       "1              173.0         82.0    None        B00021           10.666667  \n",
       "2              173.0         56.0    None        B00021           14.566667  \n",
       "3               82.0        129.0    None        B00021            7.950000  \n",
       "4               -1.0        225.0    None                 B00037  13.800000  \n",
       "5               -1.0         61.0    None                 B00037   8.966667  \n",
       "...              ...          ...     ...                    ...        ...  \n",
       "1037687         -1.0         31.0    None                 B01717  13.533333  \n",
       "1037688         -1.0        169.0    None                 B01717  11.466667  \n",
       "1037689         28.0        171.0    None        B03285           25.383333  \n",
       "1037690         16.0        252.0    None        B03285           18.050000  \n",
       "1037691        171.0        135.0    None        B03285           16.000000  \n",
       "\n",
       "[990113 rows x 8 columns]"
      ]
     },
     "execution_count": 61,
     "metadata": {},
     "output_type": "execute_result"
    }
   ],
   "source": [
    "df_feb"
   ]
  },
  {
   "cell_type": "code",
   "execution_count": 70,
   "id": "3128a014",
   "metadata": {},
   "outputs": [],
   "source": [
    "X_test = dv.transform(test_dicts)\n",
    "y_test = df_feb.duration.values"
   ]
  },
  {
   "cell_type": "code",
   "execution_count": 71,
   "id": "38eb1662",
   "metadata": {},
   "outputs": [
    {
     "data": {
      "text/plain": [
       "(990113, 525)"
      ]
     },
     "execution_count": 71,
     "metadata": {},
     "output_type": "execute_result"
    }
   ],
   "source": [
    "X_test.shape"
   ]
  },
  {
   "cell_type": "code",
   "execution_count": 72,
   "id": "cb06712f",
   "metadata": {},
   "outputs": [
    {
     "data": {
      "text/plain": [
       "11.014283144804047"
      ]
     },
     "execution_count": 72,
     "metadata": {},
     "output_type": "execute_result"
    }
   ],
   "source": [
    "y_pred = lr.predict(X_test)\n",
    "\n",
    "mean_squared_error(y_test, y_pred, squared=False)"
   ]
  }
 ],
 "metadata": {
  "kernelspec": {
   "display_name": "Python 3",
   "language": "python",
   "name": "python3"
  },
  "language_info": {
   "codemirror_mode": {
    "name": "ipython",
    "version": 3
   },
   "file_extension": ".py",
   "mimetype": "text/x-python",
   "name": "python",
   "nbconvert_exporter": "python",
   "pygments_lexer": "ipython3",
   "version": "3.8.8"
  }
 },
 "nbformat": 4,
 "nbformat_minor": 5
}
